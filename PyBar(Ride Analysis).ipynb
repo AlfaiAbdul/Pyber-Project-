{
 "cells": [
  {
   "cell_type": "markdown",
   "metadata": {},
   "source": [
    "# Analysis\n",
    "Observed Trend 1:The Urban area has the highest number of rides, but the lowest avrg fare.\n",
    "Observed Trend 2:The Rural area has the lowest number of rides, but the highest avrg fare.\n",
    "Observed Trend 3:number of drivers to number rides ratio:\n",
    "[Urban:      1.6:1]\n",
    "[Suburban:  0.89:1]\n",
    "[Rural:     0.82:1]    "
   ]
  },
  {
   "cell_type": "code",
   "execution_count": 1,
   "metadata": {
    "collapsed": true
   },
   "outputs": [],
   "source": [
    "import pandas as pd\n",
    "import numpy as np\n",
    "import matplotlib.pyplot as plt\n",
    "import csv"
   ]
  },
  {
   "cell_type": "markdown",
   "metadata": {},
   "source": [
    "# Reading and Merging sets of data"
   ]
  },
  {
   "cell_type": "code",
   "execution_count": 2,
   "metadata": {},
   "outputs": [
    {
     "data": {
      "text/html": [
       "<div>\n",
       "<style>\n",
       "    .dataframe thead tr:only-child th {\n",
       "        text-align: right;\n",
       "    }\n",
       "\n",
       "    .dataframe thead th {\n",
       "        text-align: left;\n",
       "    }\n",
       "\n",
       "    .dataframe tbody tr th {\n",
       "        vertical-align: top;\n",
       "    }\n",
       "</style>\n",
       "<table border=\"1\" class=\"dataframe\">\n",
       "  <thead>\n",
       "    <tr style=\"text-align: right;\">\n",
       "      <th></th>\n",
       "      <th>city</th>\n",
       "      <th>driver_count</th>\n",
       "      <th>type</th>\n",
       "      <th>date</th>\n",
       "      <th>fare</th>\n",
       "      <th>ride_id</th>\n",
       "    </tr>\n",
       "  </thead>\n",
       "  <tbody>\n",
       "    <tr>\n",
       "      <th>0</th>\n",
       "      <td>Kelseyland</td>\n",
       "      <td>63</td>\n",
       "      <td>Urban</td>\n",
       "      <td>2016-08-19 04:27:52</td>\n",
       "      <td>5.51</td>\n",
       "      <td>6246006544795</td>\n",
       "    </tr>\n",
       "    <tr>\n",
       "      <th>1</th>\n",
       "      <td>Kelseyland</td>\n",
       "      <td>63</td>\n",
       "      <td>Urban</td>\n",
       "      <td>2016-04-17 06:59:50</td>\n",
       "      <td>5.54</td>\n",
       "      <td>7466473222333</td>\n",
       "    </tr>\n",
       "    <tr>\n",
       "      <th>2</th>\n",
       "      <td>Kelseyland</td>\n",
       "      <td>63</td>\n",
       "      <td>Urban</td>\n",
       "      <td>2016-05-04 15:06:07</td>\n",
       "      <td>30.54</td>\n",
       "      <td>2140501382736</td>\n",
       "    </tr>\n",
       "    <tr>\n",
       "      <th>3</th>\n",
       "      <td>Kelseyland</td>\n",
       "      <td>63</td>\n",
       "      <td>Urban</td>\n",
       "      <td>2016-01-25 20:44:56</td>\n",
       "      <td>12.08</td>\n",
       "      <td>1896987891309</td>\n",
       "    </tr>\n",
       "    <tr>\n",
       "      <th>4</th>\n",
       "      <td>Kelseyland</td>\n",
       "      <td>63</td>\n",
       "      <td>Urban</td>\n",
       "      <td>2016-08-09 18:19:47</td>\n",
       "      <td>17.91</td>\n",
       "      <td>8784212854829</td>\n",
       "    </tr>\n",
       "  </tbody>\n",
       "</table>\n",
       "</div>"
      ],
      "text/plain": [
       "         city  driver_count   type                 date   fare        ride_id\n",
       "0  Kelseyland            63  Urban  2016-08-19 04:27:52   5.51  6246006544795\n",
       "1  Kelseyland            63  Urban  2016-04-17 06:59:50   5.54  7466473222333\n",
       "2  Kelseyland            63  Urban  2016-05-04 15:06:07  30.54  2140501382736\n",
       "3  Kelseyland            63  Urban  2016-01-25 20:44:56  12.08  1896987891309\n",
       "4  Kelseyland            63  Urban  2016-08-09 18:19:47  17.91  8784212854829"
      ]
     },
     "execution_count": 2,
     "metadata": {},
     "output_type": "execute_result"
    }
   ],
   "source": [
    "#readign sets of data\n",
    "city_data = pd.read_csv('city_data.csv')\n",
    "ride_data = pd.read_csv('ride_data.csv')\n",
    "\n",
    "#merging both sets\n",
    "merged_data = pd.merge(city_data, ride_data, how='left')\n",
    "merged_data.head()"
   ]
  },
  {
   "cell_type": "markdown",
   "metadata": {},
   "source": [
    "# Relationship between four key variables:\n",
    "* Average Fare ($) Per City\n",
    "* Total Number of Rides Per City\n",
    "* Total Number of Drivers Per City\n",
    "* City Type (Urban, Suburban, Rural)"
   ]
  },
  {
   "cell_type": "code",
   "execution_count": 3,
   "metadata": {
    "collapsed": true
   },
   "outputs": [],
   "source": [
    "#finding the avrg fare per city\n",
    "avrg_fare = merged_data.groupby('city')['fare'].mean()\n",
    "\n",
    "#finding ride per city\n",
    "ride_per_city = merged_data.groupby('city')['ride_id'].count()\n",
    "\n",
    "#finding the number of drivers per city\n",
    "total_fare = merged_data.groupby('city')['fare'].sum()\n",
    "\n",
    "#city type\n",
    "city_type = merged_data.groupby('city')['driver_count','type']"
   ]
  },
  {
   "cell_type": "code",
   "execution_count": 4,
   "metadata": {
    "collapsed": true
   },
   "outputs": [],
   "source": [
    "#creating a DataFrame for relationships of info above\n",
    "relationship_pd = pd.DataFrame({'city':avrg_fare.index,\n",
    "                                'Avrg Fare':avrg_fare.values,\n",
    "                                'Rides per city':ride_per_city.values,\n",
    "                                'Total Fare':total_fare.values,\n",
    "                               })\n",
    "#rearranges columns in dataframe\n",
    "relationship_pd = relationship_pd[['city','Total Fare', 'Avrg Fare', 'Rides per city']]"
   ]
  },
  {
   "cell_type": "code",
   "execution_count": 5,
   "metadata": {},
   "outputs": [
    {
     "data": {
      "text/html": [
       "<div>\n",
       "<style>\n",
       "    .dataframe thead tr:only-child th {\n",
       "        text-align: right;\n",
       "    }\n",
       "\n",
       "    .dataframe thead th {\n",
       "        text-align: left;\n",
       "    }\n",
       "\n",
       "    .dataframe tbody tr th {\n",
       "        vertical-align: top;\n",
       "    }\n",
       "</style>\n",
       "<table border=\"1\" class=\"dataframe\">\n",
       "  <thead>\n",
       "    <tr style=\"text-align: right;\">\n",
       "      <th></th>\n",
       "      <th>city</th>\n",
       "      <th>Total Fare</th>\n",
       "      <th>Avrg Fare</th>\n",
       "      <th>Rides per city</th>\n",
       "    </tr>\n",
       "  </thead>\n",
       "  <tbody>\n",
       "    <tr>\n",
       "      <th>0</th>\n",
       "      <td>Alvarezhaven</td>\n",
       "      <td>741.79</td>\n",
       "      <td>23.928710</td>\n",
       "      <td>31</td>\n",
       "    </tr>\n",
       "    <tr>\n",
       "      <th>1</th>\n",
       "      <td>Alyssaberg</td>\n",
       "      <td>535.85</td>\n",
       "      <td>20.609615</td>\n",
       "      <td>26</td>\n",
       "    </tr>\n",
       "    <tr>\n",
       "      <th>2</th>\n",
       "      <td>Anitamouth</td>\n",
       "      <td>335.84</td>\n",
       "      <td>37.315556</td>\n",
       "      <td>9</td>\n",
       "    </tr>\n",
       "    <tr>\n",
       "      <th>3</th>\n",
       "      <td>Antoniomouth</td>\n",
       "      <td>519.75</td>\n",
       "      <td>23.625000</td>\n",
       "      <td>22</td>\n",
       "    </tr>\n",
       "    <tr>\n",
       "      <th>4</th>\n",
       "      <td>Aprilchester</td>\n",
       "      <td>417.65</td>\n",
       "      <td>21.981579</td>\n",
       "      <td>19</td>\n",
       "    </tr>\n",
       "  </tbody>\n",
       "</table>\n",
       "</div>"
      ],
      "text/plain": [
       "           city  Total Fare  Avrg Fare  Rides per city\n",
       "0  Alvarezhaven      741.79  23.928710              31\n",
       "1    Alyssaberg      535.85  20.609615              26\n",
       "2    Anitamouth      335.84  37.315556               9\n",
       "3  Antoniomouth      519.75  23.625000              22\n",
       "4  Aprilchester      417.65  21.981579              19"
      ]
     },
     "execution_count": 5,
     "metadata": {},
     "output_type": "execute_result"
    }
   ],
   "source": [
    "relationship_pd.head()"
   ]
  },
  {
   "cell_type": "code",
   "execution_count": 6,
   "metadata": {
    "collapsed": true
   },
   "outputs": [],
   "source": [
    "#mergening to DFs based on common column city\n",
    "relationship_pd = pd.merge(relationship_pd, city_data, how='outer', on='city')\n",
    "#city type\n",
    "urban_df = relationship_pd[relationship_pd.type=='Urban']\n",
    "suburban_df = relationship_pd[relationship_pd.type=='Suburban']\n",
    "rural_df = relationship_pd[relationship_pd.type=='Rural']"
   ]
  },
  {
   "cell_type": "code",
   "execution_count": 7,
   "metadata": {},
   "outputs": [
    {
     "data": {
      "text/html": [
       "<div>\n",
       "<style>\n",
       "    .dataframe thead tr:only-child th {\n",
       "        text-align: right;\n",
       "    }\n",
       "\n",
       "    .dataframe thead th {\n",
       "        text-align: left;\n",
       "    }\n",
       "\n",
       "    .dataframe tbody tr th {\n",
       "        vertical-align: top;\n",
       "    }\n",
       "</style>\n",
       "<table border=\"1\" class=\"dataframe\">\n",
       "  <thead>\n",
       "    <tr style=\"text-align: right;\">\n",
       "      <th></th>\n",
       "      <th>city</th>\n",
       "      <th>Total Fare</th>\n",
       "      <th>Avrg Fare</th>\n",
       "      <th>Rides per city</th>\n",
       "      <th>driver_count</th>\n",
       "      <th>type</th>\n",
       "    </tr>\n",
       "  </thead>\n",
       "  <tbody>\n",
       "    <tr>\n",
       "      <th>0</th>\n",
       "      <td>Alvarezhaven</td>\n",
       "      <td>741.79</td>\n",
       "      <td>23.928710</td>\n",
       "      <td>31</td>\n",
       "      <td>21</td>\n",
       "      <td>Urban</td>\n",
       "    </tr>\n",
       "    <tr>\n",
       "      <th>1</th>\n",
       "      <td>Alyssaberg</td>\n",
       "      <td>535.85</td>\n",
       "      <td>20.609615</td>\n",
       "      <td>26</td>\n",
       "      <td>67</td>\n",
       "      <td>Urban</td>\n",
       "    </tr>\n",
       "    <tr>\n",
       "      <th>3</th>\n",
       "      <td>Antoniomouth</td>\n",
       "      <td>519.75</td>\n",
       "      <td>23.625000</td>\n",
       "      <td>22</td>\n",
       "      <td>21</td>\n",
       "      <td>Urban</td>\n",
       "    </tr>\n",
       "    <tr>\n",
       "      <th>4</th>\n",
       "      <td>Aprilchester</td>\n",
       "      <td>417.65</td>\n",
       "      <td>21.981579</td>\n",
       "      <td>19</td>\n",
       "      <td>49</td>\n",
       "      <td>Urban</td>\n",
       "    </tr>\n",
       "    <tr>\n",
       "      <th>5</th>\n",
       "      <td>Arnoldview</td>\n",
       "      <td>778.30</td>\n",
       "      <td>25.106452</td>\n",
       "      <td>31</td>\n",
       "      <td>41</td>\n",
       "      <td>Urban</td>\n",
       "    </tr>\n",
       "  </tbody>\n",
       "</table>\n",
       "</div>"
      ],
      "text/plain": [
       "           city  Total Fare  Avrg Fare  Rides per city  driver_count   type\n",
       "0  Alvarezhaven      741.79  23.928710              31            21  Urban\n",
       "1    Alyssaberg      535.85  20.609615              26            67  Urban\n",
       "3  Antoniomouth      519.75  23.625000              22            21  Urban\n",
       "4  Aprilchester      417.65  21.981579              19            49  Urban\n",
       "5    Arnoldview      778.30  25.106452              31            41  Urban"
      ]
     },
     "execution_count": 7,
     "metadata": {},
     "output_type": "execute_result"
    }
   ],
   "source": [
    "urban_df.head()"
   ]
  },
  {
   "cell_type": "code",
   "execution_count": 8,
   "metadata": {},
   "outputs": [
    {
     "data": {
      "text/plain": [
       "Total Fare        607.247576\n",
       "Avrg Fare          24.603991\n",
       "Rides per city     24.621212\n",
       "driver_count       39.500000\n",
       "dtype: float64"
      ]
     },
     "execution_count": 8,
     "metadata": {},
     "output_type": "execute_result"
    }
   ],
   "source": [
    "urban_df.mean()"
   ]
  },
  {
   "cell_type": "code",
   "execution_count": 9,
   "metadata": {},
   "outputs": [
    {
     "data": {
      "text/html": [
       "<div>\n",
       "<style>\n",
       "    .dataframe thead tr:only-child th {\n",
       "        text-align: right;\n",
       "    }\n",
       "\n",
       "    .dataframe thead th {\n",
       "        text-align: left;\n",
       "    }\n",
       "\n",
       "    .dataframe tbody tr th {\n",
       "        vertical-align: top;\n",
       "    }\n",
       "</style>\n",
       "<table border=\"1\" class=\"dataframe\">\n",
       "  <thead>\n",
       "    <tr style=\"text-align: right;\">\n",
       "      <th></th>\n",
       "      <th>city</th>\n",
       "      <th>Total Fare</th>\n",
       "      <th>Avrg Fare</th>\n",
       "      <th>Rides per city</th>\n",
       "      <th>driver_count</th>\n",
       "      <th>type</th>\n",
       "    </tr>\n",
       "  </thead>\n",
       "  <tbody>\n",
       "    <tr>\n",
       "      <th>2</th>\n",
       "      <td>Anitamouth</td>\n",
       "      <td>335.84</td>\n",
       "      <td>37.315556</td>\n",
       "      <td>9</td>\n",
       "      <td>16</td>\n",
       "      <td>Suburban</td>\n",
       "    </tr>\n",
       "    <tr>\n",
       "      <th>6</th>\n",
       "      <td>Campbellport</td>\n",
       "      <td>505.67</td>\n",
       "      <td>33.711333</td>\n",
       "      <td>15</td>\n",
       "      <td>26</td>\n",
       "      <td>Suburban</td>\n",
       "    </tr>\n",
       "    <tr>\n",
       "      <th>7</th>\n",
       "      <td>Carrollbury</td>\n",
       "      <td>366.06</td>\n",
       "      <td>36.606000</td>\n",
       "      <td>10</td>\n",
       "      <td>4</td>\n",
       "      <td>Suburban</td>\n",
       "    </tr>\n",
       "    <tr>\n",
       "      <th>9</th>\n",
       "      <td>Clarkstad</td>\n",
       "      <td>372.62</td>\n",
       "      <td>31.051667</td>\n",
       "      <td>12</td>\n",
       "      <td>21</td>\n",
       "      <td>Suburban</td>\n",
       "    </tr>\n",
       "    <tr>\n",
       "      <th>10</th>\n",
       "      <td>Conwaymouth</td>\n",
       "      <td>380.51</td>\n",
       "      <td>34.591818</td>\n",
       "      <td>11</td>\n",
       "      <td>18</td>\n",
       "      <td>Suburban</td>\n",
       "    </tr>\n",
       "  </tbody>\n",
       "</table>\n",
       "</div>"
      ],
      "text/plain": [
       "            city  Total Fare  Avrg Fare  Rides per city  driver_count  \\\n",
       "2     Anitamouth      335.84  37.315556               9            16   \n",
       "6   Campbellport      505.67  33.711333              15            26   \n",
       "7    Carrollbury      366.06  36.606000              10             4   \n",
       "9      Clarkstad      372.62  31.051667              12            21   \n",
       "10   Conwaymouth      380.51  34.591818              11            18   \n",
       "\n",
       "        type  \n",
       "2   Suburban  \n",
       "6   Suburban  \n",
       "7   Suburban  \n",
       "9   Suburban  \n",
       "10  Suburban  "
      ]
     },
     "execution_count": 9,
     "metadata": {},
     "output_type": "execute_result"
    }
   ],
   "source": [
    "suburban_df.head()"
   ]
  },
  {
   "cell_type": "code",
   "execution_count": 10,
   "metadata": {},
   "outputs": [
    {
     "data": {
      "text/plain": [
       "Total Fare        532.650238\n",
       "Avrg Fare          30.962713\n",
       "Rides per city     17.166667\n",
       "driver_count       15.190476\n",
       "dtype: float64"
      ]
     },
     "execution_count": 10,
     "metadata": {},
     "output_type": "execute_result"
    }
   ],
   "source": [
    "suburban_df.mean()"
   ]
  },
  {
   "cell_type": "code",
   "execution_count": 11,
   "metadata": {},
   "outputs": [
    {
     "data": {
      "text/html": [
       "<div>\n",
       "<style>\n",
       "    .dataframe thead tr:only-child th {\n",
       "        text-align: right;\n",
       "    }\n",
       "\n",
       "    .dataframe thead th {\n",
       "        text-align: left;\n",
       "    }\n",
       "\n",
       "    .dataframe tbody tr th {\n",
       "        vertical-align: top;\n",
       "    }\n",
       "</style>\n",
       "<table border=\"1\" class=\"dataframe\">\n",
       "  <thead>\n",
       "    <tr style=\"text-align: right;\">\n",
       "      <th></th>\n",
       "      <th>city</th>\n",
       "      <th>Total Fare</th>\n",
       "      <th>Avrg Fare</th>\n",
       "      <th>Rides per city</th>\n",
       "      <th>driver_count</th>\n",
       "      <th>type</th>\n",
       "    </tr>\n",
       "  </thead>\n",
       "  <tbody>\n",
       "    <tr>\n",
       "      <th>17</th>\n",
       "      <td>East Leslie</td>\n",
       "      <td>370.27</td>\n",
       "      <td>33.660909</td>\n",
       "      <td>11</td>\n",
       "      <td>9</td>\n",
       "      <td>Rural</td>\n",
       "    </tr>\n",
       "    <tr>\n",
       "      <th>18</th>\n",
       "      <td>East Stephen</td>\n",
       "      <td>390.53</td>\n",
       "      <td>39.053000</td>\n",
       "      <td>10</td>\n",
       "      <td>6</td>\n",
       "      <td>Rural</td>\n",
       "    </tr>\n",
       "    <tr>\n",
       "      <th>19</th>\n",
       "      <td>East Troybury</td>\n",
       "      <td>232.71</td>\n",
       "      <td>33.244286</td>\n",
       "      <td>7</td>\n",
       "      <td>3</td>\n",
       "      <td>Rural</td>\n",
       "    </tr>\n",
       "    <tr>\n",
       "      <th>21</th>\n",
       "      <td>Erikport</td>\n",
       "      <td>240.35</td>\n",
       "      <td>30.043750</td>\n",
       "      <td>8</td>\n",
       "      <td>3</td>\n",
       "      <td>Rural</td>\n",
       "    </tr>\n",
       "    <tr>\n",
       "      <th>25</th>\n",
       "      <td>Hernandezshire</td>\n",
       "      <td>288.02</td>\n",
       "      <td>32.002222</td>\n",
       "      <td>9</td>\n",
       "      <td>10</td>\n",
       "      <td>Rural</td>\n",
       "    </tr>\n",
       "  </tbody>\n",
       "</table>\n",
       "</div>"
      ],
      "text/plain": [
       "              city  Total Fare  Avrg Fare  Rides per city  driver_count   type\n",
       "17     East Leslie      370.27  33.660909              11             9  Rural\n",
       "18    East Stephen      390.53  39.053000              10             6  Rural\n",
       "19   East Troybury      232.71  33.244286               7             3  Rural\n",
       "21        Erikport      240.35  30.043750               8             3  Rural\n",
       "25  Hernandezshire      288.02  32.002222               9            10  Rural"
      ]
     },
     "execution_count": 11,
     "metadata": {},
     "output_type": "execute_result"
    }
   ],
   "source": [
    "rural_df.head()"
   ]
  },
  {
   "cell_type": "code",
   "execution_count": 12,
   "metadata": {},
   "outputs": [
    {
     "data": {
      "text/plain": [
       "Total Fare        236.393889\n",
       "Avrg Fare          34.207143\n",
       "Rides per city      6.944444\n",
       "driver_count        5.777778\n",
       "dtype: float64"
      ]
     },
     "execution_count": 12,
     "metadata": {},
     "output_type": "execute_result"
    }
   ],
   "source": [
    "rural_df.mean()"
   ]
  },
  {
   "cell_type": "code",
   "execution_count": 13,
   "metadata": {
    "collapsed": true
   },
   "outputs": [],
   "source": [
    "#ploting\n",
    "urban_handle = plt.scatter(urban_df['Rides per city'], urban_df['Avrg Fare'], marker=\"o\", \n",
    "            facecolors=\"red\", edgecolors=\"black\", label=\"urban\", alpha=0.75)\n",
    "suburban_handle = plt.scatter(suburban_df['Rides per city'], suburban_df['Avrg Fare'], marker=\"o\", \n",
    "            facecolors=\"yellow\", edgecolors=\"black\", label=\"suburban\", alpha=0.75)\n",
    "rural_handle = plt.scatter(rural_df['Rides per city'], rural_df['Avrg Fare'], marker=\"o\", \n",
    "            facecolors=\"blue\", edgecolors=\"black\", label=\"rural\", alpha=0.75)"
   ]
  },
  {
   "cell_type": "code",
   "execution_count": 14,
   "metadata": {},
   "outputs": [
    {
     "data": {
      "text/plain": [
       "<matplotlib.legend.Legend at 0x1025bc5f8>"
      ]
     },
     "execution_count": 14,
     "metadata": {},
     "output_type": "execute_result"
    }
   ],
   "source": [
    "plt.title(\"Pyber Ride Sharing Data\")\n",
    "plt.xlabel(\"Total Number of Rides (Per City)\")\n",
    "plt.ylabel(\"Average Fare ($)\")\n",
    "plt.xlim(0, 70)\n",
    "plt.ylim(0, 60)\n",
    "plt.grid()\n",
    "plt.legend(handles=[urban_handle, suburban_handle, rural_handle],loc=\"lower right\")"
   ]
  },
  {
   "cell_type": "code",
   "execution_count": 15,
   "metadata": {},
   "outputs": [
    {
     "data": {
      "image/png": "[encoded data removed]",
      "text/plain": [
       "<matplotlib.figure.Figure at 0x107b9a9e8>"
      ]
     },
     "metadata": {},
     "output_type": "display_data"
    }
   ],
   "source": [
    "plt.show()"
   ]
  },
  {
   "cell_type": "markdown",
   "metadata": {},
   "source": [
    "# Percentage  of Total Fares by City Type"
   ]
  },
  {
   "cell_type": "code",
   "execution_count": 16,
   "metadata": {},
   "outputs": [
    {
     "data": {
      "image/png": "[encoded data removed]",
      "text/plain": [
       "<matplotlib.figure.Figure at 0x107d27748>"
      ]
     },
     "metadata": {},
     "output_type": "display_data"
    }
   ],
   "source": [
    "#sum of total fares\n",
    "sum_of_total_fares = relationship_pd.groupby('type')['Total Fare', 'Avrg Fare'].sum()\n",
    "\n",
    "rural_ares = sum_of_total_fares.loc['Rural'][0]\n",
    "suburban_fares = sum_of_total_fares.loc['Suburban'][0]\n",
    "urban_fares = sum_of_total_fares.loc['Urban'][0]\n",
    "\n",
    "#ploting\n",
    "plt.title('% of Total Fares by City Type')\n",
    "labels = [\"Rural\", \"Suburban\", \"Urban\"]\n",
    "sizes = [rural_ares, suburban_fares, urban_fares]\n",
    "colors = [\"gold\", \"lightcoral\", \"lightskyblue\"]\n",
    "explode = [0, 0, 0.1]\n",
    "\n",
    "\n",
    "plt.pie(sizes, labels=labels, colors=colors, explode=explode,\n",
    "        autopct=\"{0:1.1f}%\".format, shadow=True, startangle=140)\n",
    "\n",
    "plt.show()"
   ]
  },
  {
   "cell_type": "markdown",
   "metadata": {},
   "source": [
    "# Percentage of Total Rides by City Type"
   ]
  },
  {
   "cell_type": "code",
   "execution_count": 17,
   "metadata": {},
   "outputs": [
    {
     "data": {
      "image/png": "[encoded data removed]",
      "text/plain": [
       "<matplotlib.figure.Figure at 0x107de0d30>"
      ]
     },
     "metadata": {},
     "output_type": "display_data"
    }
   ],
   "source": [
    "#sum of total rides\n",
    "sum_of_total_rides = relationship_pd.groupby('type')['Rides per city', 'driver_count'].sum()\n",
    "\n",
    "rural_ares = sum_of_total_rides.loc['Rural'][0]\n",
    "suburban_fares = sum_of_total_rides.loc['Suburban'][0]\n",
    "urban_fares = sum_of_total_rides.loc['Urban'][0]\n",
    "\n",
    "#ploting\n",
    "plt.title('% of Total Rides by City Type')\n",
    "labels = [\"Rural\", \"Suburban\", \"Urban\"]\n",
    "sizes = [rural_ares, suburban_fares, urban_fares]\n",
    "colors = [\"gold\", \"lightcoral\", \"lightskyblue\"]\n",
    "explode = [0, 0, 0.1]\n",
    "\n",
    "plt.pie(sizes, labels=labels, colors=colors, explode=explode,\n",
    "        autopct=\"{0:1.1f}%\".format, shadow=True, startangle=140)\n",
    "plt.show()"
   ]
  },
  {
   "cell_type": "markdown",
   "metadata": {},
   "source": [
    "# Percentage of Total Drivers by City Type"
   ]
  },
  {
   "cell_type": "code",
   "execution_count": 18,
   "metadata": {},
   "outputs": [
    {
     "data": {
      "image/png": "[encoded data removed]",
      "text/plain": [
       "<matplotlib.figure.Figure at 0x107de0f60>"
      ]
     },
     "metadata": {},
     "output_type": "display_data"
    }
   ],
   "source": [
    "rural_drivers = sum_of_total_rides.loc['Rural'][1]\n",
    "suburban_drivers = sum_of_total_rides.loc['Suburban'][1]\n",
    "urban_drivers = sum_of_total_rides.loc['Urban'][1]\n",
    "\n",
    "#ploting\n",
    "plt.title('% of Total Drivers by City Type')\n",
    "labels = [\"Rural\", \"Suburban\", \"Urban\"]\n",
    "sizes = [rural_drivers, suburban_drivers, urban_drivers]\n",
    "colors = [\"gold\", \"lightcoral\", \"lightskyblue\"]\n",
    "explode = [0, 0, 0.1]\n",
    "\n",
    "plt.pie(sizes, labels=labels, colors=colors, explode=explode,\n",
    "        autopct=\"{0:1.1f}%\".format, shadow=True, startangle=140)\n",
    "plt.show()"
   ]
  },
  {
   "cell_type": "code",
   "execution_count": null,
   "metadata": {},
   "outputs": [],
   "source": []
  },
  {
   "cell_type": "code",
   "execution_count": null,
   "metadata": {
    "collapsed": true
   },
   "outputs": [],
   "source": []
  }
 ],
 "metadata": {
  "kernelspec": {
   "display_name": "Python 3",
   "language": "python",
   "name": "python3"
  },
  "language_info": {
   "codemirror_mode": {
    "name": "ipython",
    "version": 3
   },
   "file_extension": ".py",
   "mimetype": "text/x-python",
   "name": "python",
   "nbconvert_exporter": "python",
   "pygments_lexer": "ipython3",
   "version": "3.6.2"
  }
 },
 "nbformat": 4,
 "nbformat_minor": 2
}
